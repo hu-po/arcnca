{
 "cells": [
  {
   "cell_type": "code",
   "execution_count": 1,
   "id": "0e3d7edb",
   "metadata": {
    "execution": {
     "iopub.execute_input": "2024-10-09T14:55:33.453808Z",
     "iopub.status.busy": "2024-10-09T14:55:33.453336Z",
     "iopub.status.idle": "2024-10-09T14:55:34.463833Z",
     "shell.execute_reply": "2024-10-09T14:55:34.462766Z"
    },
    "papermill": {
     "duration": 1.017523,
     "end_time": "2024-10-09T14:55:34.466272",
     "exception": false,
     "start_time": "2024-10-09T14:55:33.448749",
     "status": "completed"
    },
    "tags": []
   },
   "outputs": [
    {
     "name": "stdout",
     "output_type": "stream",
     "text": [
      "jax 0.4.33\n",
      "jaxlib 0.4.33\n"
     ]
    }
   ],
   "source": [
    "import jax, jaxlib\n",
    "print(f\"jax {jax.__version__}\")\n",
    "print(f\"jaxlib {jaxlib.__version__}\")"
   ]
  },
  {
   "cell_type": "code",
   "execution_count": 2,
   "id": "28e6fd32",
   "metadata": {
    "_cell_guid": "b1076dfc-b9ad-4769-8c92-a6c4dae69d19",
    "_uuid": "8f2839f25d086af736a60e9eeb907d3b93b6e0e5",
    "execution": {
     "iopub.execute_input": "2024-10-09T14:55:34.473387Z",
     "iopub.status.busy": "2024-10-09T14:55:34.472926Z",
     "iopub.status.idle": "2024-10-09T14:55:35.222084Z",
     "shell.execute_reply": "2024-10-09T14:55:35.220989Z"
    },
    "papermill": {
     "duration": 0.755215,
     "end_time": "2024-10-09T14:55:35.224429",
     "exception": false,
     "start_time": "2024-10-09T14:55:34.469214",
     "status": "completed"
    },
    "tags": []
   },
   "outputs": [
    {
     "name": "stdout",
     "output_type": "stream",
     "text": [
      "/kaggle/input/arc-prize-2024/arc-agi_training_solutions.json\n",
      "/kaggle/input/arc-prize-2024/arc-agi_evaluation_solutions.json\n",
      "/kaggle/input/arc-prize-2024/arc-agi_evaluation_challenges.json\n",
      "/kaggle/input/arc-prize-2024/sample_submission.json\n",
      "/kaggle/input/arc-prize-2024/arc-agi_training_challenges.json\n",
      "/kaggle/input/arc-prize-2024/arc-agi_test_challenges.json\n"
     ]
    }
   ],
   "source": [
    "# This Python 3 environment comes with many helpful analytics libraries installed\n",
    "# It is defined by the kaggle/python Docker image: https://github.com/kaggle/docker-python\n",
    "# For example, here's several helpful packages to load\n",
    "\n",
    "import numpy as np # linear algebra\n",
    "import pandas as pd # data processing, CSV file I/O (e.g. pd.read_csv)\n",
    "\n",
    "# Input data files are available in the read-only \"../input/\" directory\n",
    "# For example, running this (by clicking run or pressing Shift+Enter) will list all files under the input directory\n",
    "\n",
    "import os\n",
    "for dirname, _, filenames in os.walk('/kaggle/input'):\n",
    "    for filename in filenames:\n",
    "        print(os.path.join(dirname, filename))\n",
    "\n",
    "# You can write up to 20GB to the current directory (/kaggle/working/) that gets preserved as output when you create a version using \"Save & Run All\" \n",
    "# You can also write temporary files to /kaggle/temp/, but they won't be saved outside of the current session"
   ]
  },
  {
   "cell_type": "code",
   "execution_count": 3,
   "id": "29472044",
   "metadata": {
    "execution": {
     "iopub.execute_input": "2024-10-09T14:55:35.231870Z",
     "iopub.status.busy": "2024-10-09T14:55:35.230683Z",
     "iopub.status.idle": "2024-10-09T14:55:35.336519Z",
     "shell.execute_reply": "2024-10-09T14:55:35.335567Z"
    },
    "papermill": {
     "duration": 0.112042,
     "end_time": "2024-10-09T14:55:35.339125",
     "exception": false,
     "start_time": "2024-10-09T14:55:35.227083",
     "status": "completed"
    },
    "tags": []
   },
   "outputs": [],
   "source": [
    "import json\n",
    "\n",
    "with open('/kaggle/input/arc-prize-2024/arc-agi_test_challenges.json', 'r') as f:\n",
    "    test_data = json.load(f)"
   ]
  },
  {
   "cell_type": "code",
   "execution_count": 4,
   "id": "152450c0",
   "metadata": {
    "execution": {
     "iopub.execute_input": "2024-10-09T14:55:35.348355Z",
     "iopub.status.busy": "2024-10-09T14:55:35.347489Z",
     "iopub.status.idle": "2024-10-09T14:55:35.355054Z",
     "shell.execute_reply": "2024-10-09T14:55:35.354232Z"
    },
    "papermill": {
     "duration": 0.014978,
     "end_time": "2024-10-09T14:55:35.357279",
     "exception": false,
     "start_time": "2024-10-09T14:55:35.342301",
     "status": "completed"
    },
    "tags": []
   },
   "outputs": [],
   "source": [
    "submission = dict()\n",
    "for key, task in test_data.items():\n",
    "    submission[key] = [{\"attempt_1\": [], \"attempt_2\": []}]*len(task['test'])\n",
    "    \n",
    "with open('submission.json', 'w') as f:\n",
    "    json.dump(submission, f)"
   ]
  }
 ],
 "metadata": {
  "kaggle": {
   "accelerator": "none",
   "dataSources": [
    {
     "databundleVersionId": 8951125,
     "sourceId": 67357,
     "sourceType": "competition"
    }
   ],
   "dockerImageVersionId": 30786,
   "isGpuEnabled": false,
   "isInternetEnabled": false,
   "language": "python",
   "sourceType": "notebook"
  },
  "kernelspec": {
   "display_name": "Python 3",
   "language": "python",
   "name": "python3"
  },
  "language_info": {
   "codemirror_mode": {
    "name": "ipython",
    "version": 3
   },
   "file_extension": ".py",
   "mimetype": "text/x-python",
   "name": "python",
   "nbconvert_exporter": "python",
   "pygments_lexer": "ipython3",
   "version": "3.10.14"
  },
  "papermill": {
   "default_parameters": {},
   "duration": 5.068386,
   "end_time": "2024-10-09T14:55:35.778985",
   "environment_variables": {},
   "exception": null,
   "input_path": "__notebook__.ipynb",
   "output_path": "__notebook__.ipynb",
   "parameters": {},
   "start_time": "2024-10-09T14:55:30.710599",
   "version": "2.6.0"
  }
 },
 "nbformat": 4,
 "nbformat_minor": 5
}

{
 "cells": [
  {
   "cell_type": "code",
   "execution_count": null,
   "metadata": {},
   "outputs": [],
   "source": [
    "!pip install 'pytest>=8.3.2' 'numpy>=1.26.4' 'pillow>=10.4.0' 'msgpack>=1.1.0' 'requests>=2.32.3' 'mediapy>=1.2.2' tqdm\n",
    "!pip install --no-deps 'optax==0.2.3' 'chex==0.1.86' 'flax>=0.9.0' orbax-checkpoint tensorstore 'typing-extensions>=4.2' 'absl-py>=2.1.0' 'toolz>=1.0.0' 'etils[epy]>=1.9.4'\n",
    "!pip install wandb\n",
    "!wandb login\n",
    "!git clone https://github.com/hu-po/cax.git /cax\n",
    "!pip install --upgrade /cax --no-deps"
   ]
  },
  {
   "cell_type": "code",
   "execution_count": null,
   "metadata": {},
   "outputs": [],
   "source": [
    "import json\n",
    "import os\n",
    "\n",
    "import jax\n",
    "import jaxlib\n",
    "import jax.numpy as jnp\n",
    "import numpy as np\n",
    "from tqdm.auto import tqdm\n",
    "import wandb\n",
    "\n",
    "import flax\n",
    "from flax import nnx\n",
    "import optax\n",
    "import cax\n",
    "\n",
    "for pkg in [jax, jaxlib, cax, flax, optax]:\n",
    "    print(pkg.__name__, pkg.__version__)"
   ]
  },
  {
   "cell_type": "code",
   "execution_count": null,
   "metadata": {},
   "outputs": [],
   "source": [
    "morph =  os.environ[\"MORPH\"]\n",
    "morph_nb_filepath =  os.environ[\"MORPH_NB_FILEPATH\"]\n",
    "morph_output_dir =  os.environ[\"MORPH_OUTPUT_DIR\"]"
   ]
  },
  {
   "cell_type": "code",
   "execution_count": null,
   "metadata": {},
   "outputs": [],
   "source": [
    "def load_data(path):\n",
    "    with open(path, 'r') as f:\n",
    "        data = json.load(f)\n",
    "    print(f\"Loaded {len(data)} tasks from {path}\")\n",
    "    return data\n",
    "\n",
    "train_challenges = load_data('/kaggle/input/arc-prize-2024/arc-agi_training_challenges.json')\n",
    "train_solutions = load_data('/kaggle/input/arc-prize-2024/arc-agi_training_solutions.json')\n",
    "eval_challenges = load_data('/kaggle/input/arc-prize-2024/arc-agi_evaluation_challenges.json')\n",
    "eval_solutions = load_data('/kaggle/input/arc-prize-2024/arc-agi_evaluation_solutions.json')\n",
    "\n",
    "def process_tasks(challenges, solutions):\n",
    "    inputs, outputs, task_indices = [], [], []\n",
    "    task_id_to_index = {}\n",
    "    for index, task_id in enumerate(challenges.keys()):\n",
    "        task_id_to_index[task_id] = index\n",
    "        task = challenges[task_id]\n",
    "        solution = solutions[task_id]\n",
    "        for pair in task['train']:\n",
    "            inputs.append(np.array(pair['input'], dtype=np.int32))\n",
    "            outputs.append(np.array(pair['output'], dtype=np.int32))\n",
    "            task_indices.append(index)\n",
    "        for i, test_input in enumerate(task['test']):\n",
    "            inputs.append(np.array(test_input['input'], dtype=np.int32))\n",
    "            outputs.append(np.array(solution[i], dtype=np.int32))\n",
    "            task_indices.append(index)\n",
    "    return inputs, outputs, task_indices, task_id_to_index\n",
    "\n",
    "def pad_grids(grids, max_size=30, pad_value=0):\n",
    "    padded_grids = []\n",
    "    for grid in grids:\n",
    "        padded = np.full((max_size, max_size), pad_value, dtype=np.int32)\n",
    "        rows, cols = grid.shape\n",
    "        padded[:rows, :cols] = grid\n",
    "        padded_grids.append(padded)\n",
    "    return np.stack(padded_grids)\n",
    "\n",
    "def prepare_data(challenges, solutions):\n",
    "    inputs, outputs, task_indices, task_id_to_index = process_tasks(challenges, solutions)\n",
    "    print(f\"\\t number of samples: {len(inputs)}\")\n",
    "    inputs_array = pad_grids(inputs)\n",
    "    outputs_array = pad_grids(outputs)\n",
    "    task_indices_array = np.array(task_indices, dtype=np.int32)\n",
    "    inputs_array = jnp.array(inputs_array)\n",
    "    outputs_array = jnp.array(outputs_array)\n",
    "    task_indices_array = jnp.array(task_indices_array)\n",
    "    return inputs_array, outputs_array, task_indices_array, task_id_to_index\n",
    "\n",
    "print(\"Processing train data...\")\n",
    "train_inputs, train_outputs, train_task_indices, task_id_to_index = prepare_data(train_challenges, train_solutions)\n",
    "print(f\"\\t inputs shape: {train_inputs.shape}\")\n",
    "print(f\"\\t outputs shape: {train_outputs.shape}\")\n",
    "print(f\"\\t task indices shape: {train_task_indices.shape}\")\n",
    "\n",
    "print(\"Processing eval data...\")\n",
    "eval_inputs, eval_outputs, eval_task_indices, _ = prepare_data(eval_challenges, eval_solutions)\n",
    "print(f\"\\t inputs shape: {eval_inputs.shape}\")\n",
    "print(f\"\\t outputs shape: {eval_outputs.shape}\")\n",
    "print(f\"\\t task indices shape: {eval_task_indices.shape}\")"
   ]
  },
  {
   "cell_type": "code",
   "execution_count": null,
   "metadata": {},
   "outputs": [],
   "source": [
    "#<code>"
   ]
  },
  {
   "cell_type": "code",
   "execution_count": null,
   "metadata": {},
   "outputs": [],
   "source": [
    "test_challenges_path = '/kaggle/input/arc-prize-2024/arc-agi_test_challenges.json'\n",
    "prepare_submission(ca, test_challenges_path)"
   ]
  }
 ],
 "metadata": {
  "kernelspec": {
   "display_name": "Python 3 (ipykernel)",
   "language": "python",
   "name": "python3"
  },
  "language_info": {
   "codemirror_mode": {
    "name": "ipython",
    "version": 3
   },
   "file_extension": ".py",
   "mimetype": "text/x-python",
   "name": "python",
   "nbconvert_exporter": "python",
   "pygments_lexer": "ipython3",
   "version": "3.10.12"
  }
 },
 "nbformat": 4,
 "nbformat_minor": 2
}
